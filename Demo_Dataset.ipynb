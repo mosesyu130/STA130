{
 "cells": [
  {
   "cell_type": "code",
   "execution_count": 1,
   "id": "d6f65b6a",
   "metadata": {},
   "outputs": [
    {
     "name": "stdout",
     "output_type": "stream",
     "text": [
      "pclass          1\n",
      "survived        1\n",
      "name            1\n",
      "sex             1\n",
      "age           264\n",
      "sibsp           1\n",
      "parch           1\n",
      "ticket          1\n",
      "fare            2\n",
      "cabin        1015\n",
      "embarked        3\n",
      "boat          824\n",
      "body         1189\n",
      "home.dest     565\n",
      "dtype: int64\n"
     ]
    }
   ],
   "source": [
    "import pandas as pd\n",
    "\n",
    "# Load the Titanic dataset with missing values from the provided URL\n",
    "url = 'https://raw.githubusercontent.com/Geoyi/Cleaning-Titanic-Data/master/titanic_original.csv'\n",
    "\n",
    "# Load the dataset into a pandas DataFrame\n",
    "titanic_data = pd.read_csv(url)\n",
    "\n",
    "# Get missing data counts for each column\n",
    "missing_data_counts = titanic_data.isnull().sum()\n",
    "\n",
    "# Display missing data counts\n",
    "print(missing_data_counts)"
   ]
  },
  {
   "cell_type": "markdown",
   "id": "e14600cc",
   "metadata": {},
   "source": [
    "## Project Summary:\n",
    "\n",
    "In this project, the goal was to find and analyze an amusing, interesting dataset with missing values, accessible online as a CSV file. Initially, we explored various options and settled on the famous Titanic dataset. The dataset contains information about passengers on the Titanic, including attributes such as survival status, age, cabin, and more. Significant amounts of missing data are present in columns like age, cabin, boat, body, and home.dest.\n",
    "\n",
    "After downloading the dataset, the next step was to load it using Pandas, a Python library, to analyze and count the missing values. We wrote the following code:\n",
    "\n",
    "```\n",
    "import pandas as pd\n",
    "\n",
    "# Load the Titanic dataset with missing values from the provided URL\n",
    "url = 'https://raw.githubusercontent.com/Geoyi/Cleaning-Titanic-Data/master/titanic_original.csv'\n",
    "\n",
    "# Load the dataset into a pandas DataFrame\n",
    "titanic_data = pd.read_csv(url)\n",
    "\n",
    "# Get missing data counts for each column\n",
    "missing_data_counts = titanic_data.isnull().sum()\n",
    "\n",
    "# Display missing data counts\n",
    "print(missing_data_counts)\n",
    "```\n",
    "The dataset revealed extensive missing data, particularly in fields like age (264 missing), cabin (1015 missing), boat (824 missing), and body (1189 missing). This provided a useful exercise in identifying and handling missing data, which is a critical step in data cleaning and preprocessing for analysis.\n"
   ]
  },
  {
   "cell_type": "markdown",
   "id": "1d7bcc5b",
   "metadata": {},
   "source": []
  }
 ],
 "metadata": {
  "kernelspec": {
   "display_name": "Python 3 (ipykernel)",
   "language": "python",
   "name": "python3"
  },
  "language_info": {
   "codemirror_mode": {
    "name": "ipython",
    "version": 3
   },
   "file_extension": ".py",
   "mimetype": "text/x-python",
   "name": "python",
   "nbconvert_exporter": "python",
   "pygments_lexer": "ipython3",
   "version": "3.11.6"
  }
 },
 "nbformat": 4,
 "nbformat_minor": 5
}
